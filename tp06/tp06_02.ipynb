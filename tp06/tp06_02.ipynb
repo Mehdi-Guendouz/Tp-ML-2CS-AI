{
 "cells": [
  {
   "cell_type": "code",
   "execution_count": 1,
   "metadata": {},
   "outputs": [],
   "source": [
    "from sklearn.datasets import load_iris\n",
    "iris = load_iris()\n"
   ]
  },
  {
   "cell_type": "code",
   "execution_count": 2,
   "metadata": {},
   "outputs": [],
   "source": [
    "from sklearn.model_selection import train_test_split\n",
    "\n",
    "X_train, X_test, y_train, y_test = train_test_split(iris.data, iris.target, test_size=0.3, random_state=0)\n"
   ]
  },
  {
   "cell_type": "code",
   "execution_count": 4,
   "metadata": {},
   "outputs": [
    {
     "name": "stdout",
     "output_type": "stream",
     "text": [
      "Cross-validation Scores: [0.6666666666666666, 0.6666666666666666, 0.8095238095238095, 0.7142857142857143, 0.7142857142857143]\n",
      "Average Accuracy: 0.7142857142857143\n"
     ]
    }
   ],
   "source": [
    "from sklearn.model_selection import StratifiedKFold\n",
    "from sklearn.naive_bayes import MultinomialNB\n",
    "from sklearn.metrics import accuracy_score  # Import accuracy_score\n",
    "\n",
    "# Create a MultinomialNB classifier\n",
    "clf = MultinomialNB()\n",
    "\n",
    "# Define the StratifiedKFold object\n",
    "cv = StratifiedKFold(n_splits=5, shuffle=True, random_state=0)\n",
    "\n",
    "# Use cross-validation to evaluate the model\n",
    "scores = []\n",
    "for train_index, test_index in cv.split(X_train, y_train):\n",
    "  # Split data based on the fold indices\n",
    "  X_train_fold, X_test_fold = X_train[train_index], X_train[test_index]\n",
    "  y_train_fold, y_test_fold = y_train[train_index], y_train[test_index]\n",
    "\n",
    "  # Train the model on the fold's training data\n",
    "  clf.fit(X_train_fold, y_train_fold)\n",
    "\n",
    "  # Predict on the fold's testing data\n",
    "  y_pred = clf.predict(X_test_fold)\n",
    "\n",
    "  # Calculate accuracy for the fold\n",
    "  accuracy = accuracy_score(y_test_fold, y_pred)\n",
    "\n",
    "  # Append the fold's accuracy to the scores list\n",
    "  scores.append(accuracy)\n",
    "\n",
    "# Print the cross-validation scores (average accuracy)\n",
    "print(\"Cross-validation Scores:\", scores)\n",
    "print(\"Average Accuracy:\", sum(scores) / len(scores))\n"
   ]
  },
  {
   "cell_type": "code",
   "execution_count": 6,
   "metadata": {},
   "outputs": [
    {
     "name": "stdout",
     "output_type": "stream",
     "text": [
      "MultinomialNB Prediction: versicolor\n",
      "BernoulliNB Prediction: setosa\n"
     ]
    }
   ],
   "source": [
    "from sklearn.naive_bayes import MultinomialNB, BernoulliNB\n",
    "\n",
    "# Load the Iris dataset\n",
    "iris = load_iris()\n",
    "\n",
    "# Sample data\n",
    "sample = [[5.85, 4.5, 1.0, 2.5]]\n",
    "\n",
    "# Train MultinomialNB and BernoulliNB classifiers (assuming you have already loaded the Iris data)\n",
    "clf_multi = MultinomialNB().fit(iris.data, iris.target)\n",
    "clf_bernoulli = BernoulliNB().fit(iris.data, iris.target)\n",
    "\n",
    "# Make predictions using both classifiers\n",
    "prediction_multi = clf_multi.predict(sample)\n",
    "prediction_bernoulli = clf_bernoulli.predict(sample)\n",
    "\n",
    "# Print the predictions with class labels (assuming iris.target_names holds class labels)\n",
    "print(\"MultinomialNB Prediction:\", iris.target_names[prediction_multi[0]])\n",
    "print(\"BernoulliNB Prediction:\", iris.target_names[prediction_bernoulli[0]])\n"
   ]
  }
 ],
 "metadata": {
  "kernelspec": {
   "display_name": "Python 3",
   "language": "python",
   "name": "python3"
  },
  "language_info": {
   "codemirror_mode": {
    "name": "ipython",
    "version": 3
   },
   "file_extension": ".py",
   "mimetype": "text/x-python",
   "name": "python",
   "nbconvert_exporter": "python",
   "pygments_lexer": "ipython3",
   "version": "3.11.4"
  }
 },
 "nbformat": 4,
 "nbformat_minor": 2
}
