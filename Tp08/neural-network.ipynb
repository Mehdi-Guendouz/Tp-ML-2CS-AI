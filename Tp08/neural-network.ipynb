{
 "cells": [
  {
   "cell_type": "code",
   "execution_count": 2,
   "metadata": {},
   "outputs": [
    {
     "ename": "ValueError",
     "evalue": "shapes (3,) and (4,) not aligned: 3 (dim 0) != 4 (dim 0)",
     "output_type": "error",
     "traceback": [
      "\u001b[1;31m---------------------------------------------------------------------------\u001b[0m",
      "\u001b[1;31mValueError\u001b[0m                                Traceback (most recent call last)",
      "Cell \u001b[1;32mIn[2], line 42\u001b[0m\n\u001b[0;32m     40\u001b[0m \u001b[38;5;66;03m# Predict the class of a new sample\u001b[39;00m\n\u001b[0;32m     41\u001b[0m new_sample \u001b[38;5;241m=\u001b[39m np\u001b[38;5;241m.\u001b[39marray([\u001b[38;5;241m1\u001b[39m, \u001b[38;5;241m0\u001b[39m, \u001b[38;5;241m0\u001b[39m])  \u001b[38;5;66;03m# This point should be classified as 0\u001b[39;00m\n\u001b[1;32m---> 42\u001b[0m prediction \u001b[38;5;241m=\u001b[39m \u001b[43mperceptron\u001b[49m\u001b[38;5;241;43m.\u001b[39;49m\u001b[43mpredict\u001b[49m\u001b[43m(\u001b[49m\u001b[43mnew_sample\u001b[49m\u001b[43m)\u001b[49m\n\u001b[0;32m     43\u001b[0m \u001b[38;5;28mprint\u001b[39m(\u001b[38;5;124mf\u001b[39m\u001b[38;5;124m\"\u001b[39m\u001b[38;5;124mPredicted class for \u001b[39m\u001b[38;5;132;01m{\u001b[39;00mnew_sample\u001b[38;5;132;01m}\u001b[39;00m\u001b[38;5;124m: \u001b[39m\u001b[38;5;132;01m{\u001b[39;00mprediction\u001b[38;5;132;01m}\u001b[39;00m\u001b[38;5;124m\"\u001b[39m)\n",
      "Cell \u001b[1;32mIn[2], line 15\u001b[0m, in \u001b[0;36mPerceptron.predict\u001b[1;34m(self, x)\u001b[0m\n\u001b[0;32m     12\u001b[0m \u001b[38;5;28;01mdef\u001b[39;00m \u001b[38;5;21mpredict\u001b[39m(\u001b[38;5;28mself\u001b[39m, x):\n\u001b[0;32m     13\u001b[0m   \u001b[38;5;66;03m# add bias term\u001b[39;00m\n\u001b[0;32m     14\u001b[0m   x \u001b[38;5;241m=\u001b[39m np\u001b[38;5;241m.\u001b[39mappend(x, \u001b[38;5;241m1\u001b[39m)\n\u001b[1;32m---> 15\u001b[0m   linear_output \u001b[38;5;241m=\u001b[39m \u001b[43mnp\u001b[49m\u001b[38;5;241;43m.\u001b[39;49m\u001b[43mdot\u001b[49m\u001b[43m(\u001b[49m\u001b[38;5;28;43mself\u001b[39;49m\u001b[38;5;241;43m.\u001b[39;49m\u001b[43mweights\u001b[49m\u001b[43m,\u001b[49m\u001b[43m \u001b[49m\u001b[43mx\u001b[49m\u001b[43m)\u001b[49m\n\u001b[0;32m     16\u001b[0m   \u001b[38;5;28;01mreturn\u001b[39;00m \u001b[38;5;28mself\u001b[39m\u001b[38;5;241m.\u001b[39msigmoid(linear_output)\n",
      "\u001b[1;31mValueError\u001b[0m: shapes (3,) and (4,) not aligned: 3 (dim 0) != 4 (dim 0)"
     ]
    }
   ],
   "source": [
    "import numpy as np\n",
    "\n",
    "class Perceptron:\n",
    "\n",
    "  def __init__(self, learning_rate=0.01, num_features=2):\n",
    "    self.weights = np.random.rand(num_features + 1)  # add bias\n",
    "    self.learning_rate = learning_rate\n",
    "\n",
    "  def sigmoid(self, x):\n",
    "    return 1 / (1 + np.exp(-x))\n",
    "\n",
    "  def predict(self, x):\n",
    "    # add bias term\n",
    "    x = np.append(x, 1)\n",
    "    linear_output = np.dot(self.weights, x)\n",
    "    return self.sigmoid(linear_output)\n",
    "\n",
    "  def train(self, x, y, epochs=100):\n",
    "    for _ in range(epochs):\n",
    "      for i, sample in enumerate(x):\n",
    "        # add bias term\n",
    "        sample = np.append(sample, 1)\n",
    "        linear_output = np.dot(self.weights, sample)\n",
    "        prediction = self.sigmoid(linear_output)\n",
    "        error = y[i] - prediction\n",
    "        self.weights += self.learning_rate * error * sample\n",
    "\n",
    "#  Example usage\n",
    "if __name__ == \"__main__\":\n",
    "  # Training data\n",
    "  x = np.array([[0, 0], [0, 1], [1, 0], [1, 1]])\n",
    "  y = np.array([0, 0, 1, 1])\n",
    "\n",
    "  # Create a Perceptron object with learning rate 0.01\n",
    "  perceptron = Perceptron(learning_rate=0.01)\n",
    "\n",
    "  # Train the Perceptron\n",
    "  perceptron.train(x, y)\n",
    "\n",
    "  # Predict the class of a new sample\n",
    "  new_sample = np.array([1, 0, 0])  # This point should be classified as 0\n",
    "  prediction = perceptron.predict(new_sample)\n",
    "  print(f\"Predicted class for {new_sample}: {prediction}\")\n"
   ]
  }
 ],
 "metadata": {
  "kernelspec": {
   "display_name": "Python 3",
   "language": "python",
   "name": "python3"
  },
  "language_info": {
   "codemirror_mode": {
    "name": "ipython",
    "version": 3
   },
   "file_extension": ".py",
   "mimetype": "text/x-python",
   "name": "python",
   "nbconvert_exporter": "python",
   "pygments_lexer": "ipython3",
   "version": "3.11.4"
  }
 },
 "nbformat": 4,
 "nbformat_minor": 2
}
