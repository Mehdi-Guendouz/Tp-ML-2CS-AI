{
 "cells": [
  {
   "cell_type": "code",
   "execution_count": 57,
   "id": "f6551f90",
   "metadata": {},
   "outputs": [],
   "source": [
    "from sklearn.datasets import make_regression\n",
    "import numpy as np"
   ]
  },
  {
   "cell_type": "code",
   "execution_count": 58,
   "id": "ad713734",
   "metadata": {},
   "outputs": [
    {
     "name": "stdout",
     "output_type": "stream",
     "text": [
      "Features: [[-0.49320907]\n",
      " [ 0.78133375]\n",
      " [-0.62622396]\n",
      " [-1.30710747]\n",
      " [-1.77137824]\n",
      " [ 0.99730879]\n",
      " [-0.22645789]\n",
      " [-2.28282631]\n",
      " [ 0.87381071]\n",
      " [-1.17372165]\n",
      " [ 0.85786304]\n",
      " [-0.51508371]\n",
      " [ 0.12153458]\n",
      " [-0.73535252]\n",
      " [ 0.51651874]\n",
      " [ 1.46763224]\n",
      " [ 1.37662984]\n",
      " [-1.20791817]\n",
      " [ 0.88535628]\n",
      " [-0.61785093]\n",
      " [-1.03780897]\n",
      " [-1.07100873]\n",
      " [-0.58360451]\n",
      " [-0.89418961]\n",
      " [ 1.90540996]\n",
      " [ 0.13143019]\n",
      " [-0.61998489]\n",
      " [-1.39414195]\n",
      " [-0.71232231]\n",
      " [ 0.90893411]\n",
      " [ 0.40688585]\n",
      " [-0.25258602]\n",
      " [-2.93727789]\n",
      " [-0.52185937]\n",
      " [ 0.66944969]\n",
      " [ 0.21574883]\n",
      " [ 1.99921673]\n",
      " [-0.94250607]\n",
      " [-0.39244088]\n",
      " [ 0.38239444]\n",
      " [ 1.19606588]\n",
      " [-1.06049295]\n",
      " [ 0.32756313]\n",
      " [-1.61373438]\n",
      " [ 0.09694474]\n",
      " [ 0.74769491]\n",
      " [-2.03386649]\n",
      " [-0.49265924]\n",
      " [ 1.09516893]\n",
      " [-1.18879242]\n",
      " [ 0.31523387]\n",
      " [-0.38989733]\n",
      " [ 0.38705896]\n",
      " [-1.98651728]\n",
      " [-0.10761694]\n",
      " [ 1.02070822]\n",
      " [-0.26010019]\n",
      " [-1.38163843]\n",
      " [-0.08700249]\n",
      " [-0.83418871]\n",
      " [-0.98232578]\n",
      " [ 1.97299287]\n",
      " [-0.84289104]\n",
      " [ 1.20544462]\n",
      " [-0.18276127]\n",
      " [-0.78299254]\n",
      " [-0.23628967]\n",
      " [ 1.02432263]\n",
      " [ 0.48307754]\n",
      " [ 1.7802704 ]\n",
      " [ 0.21068704]\n",
      " [-1.03014455]\n",
      " [ 0.49620543]\n",
      " [ 1.60524312]\n",
      " [-0.16227038]\n",
      " [ 1.18989511]\n",
      " [-1.03077125]\n",
      " [ 0.07592618]\n",
      " [-2.86427806]\n",
      " [-0.61397297]\n",
      " [ 3.04193485]\n",
      " [-1.39781804]\n",
      " [-0.69672637]\n",
      " [ 1.47639138]\n",
      " [ 0.33714604]\n",
      " [ 0.18481759]\n",
      " [ 0.8352975 ]\n",
      " [ 1.15199922]\n",
      " [ 1.67511265]\n",
      " [-0.16120159]\n",
      " [-0.13340069]\n",
      " [ 0.62059352]\n",
      " [-1.43726684]\n",
      " [ 1.17994998]\n",
      " [-0.97145554]\n",
      " [-1.28104248]\n",
      " [-1.68791073]\n",
      " [ 0.51538825]\n",
      " [-1.56196299]\n",
      " [-2.19472811]]\n",
      "Targets: [ -17.53348065   27.46086692  -22.25308114  -46.19233406  -62.75833222\n",
      "   35.15842768   -7.9472653   -80.7923993    30.93565532  -41.55922235\n",
      "   30.48741881  -18.2880293     4.24774654  -25.98710918   18.30004381\n",
      "   51.95673899   48.61279314  -42.90295143   31.41603597  -21.73700344\n",
      "  -36.80196266  -37.94871507  -20.44865618  -31.67173491   67.29532786\n",
      "    4.74087971  -21.98727299  -49.28330559  -25.25117142   32.11821029\n",
      "   14.34358808   -8.9852134  -103.89423417  -18.42427656   23.67759937\n",
      "    7.48222729   70.81231963  -33.38094918  -13.87341662   13.53638126\n",
      "   42.13110225  -37.478406     11.60894496  -57.28435199    3.52319127\n",
      "   26.59939228  -71.95266461  -17.37530864   38.77882867  -42.05467578\n",
      "   11.21204177  -13.97067847   13.66436167  -70.39609666   -3.75208023\n",
      "   35.97344618   -9.1887647   -48.94190119   -3.1634672   -29.42560217\n",
      "  -34.75003466   69.80328858  -29.84289728   42.60118168   -6.54508387\n",
      "  -27.75924831   -8.25786146   36.2616998    17.11782221   63.01881949\n",
      "    7.52635001  -36.51854796   17.74336567   56.87490631   -5.88464595\n",
      "   42.05778517  -36.60181306    2.79415173 -101.28246688  -21.75818827\n",
      "  107.85846719  -49.4576537   -24.66652396   52.31048865   11.93397458\n",
      "    6.66225927   29.6754673    40.81641449   59.12693569   -5.53594042\n",
      "   -4.82000318   21.87538589  -50.80038078   41.84621814  -34.54259813\n",
      "  -45.43062431  -59.7728449    18.170056    -55.23729702  -77.75857642]\n"
     ]
    }
   ],
   "source": [
    "\n",
    "# Generate a regression dataset with 100 samples and 3 features\n",
    "X, Y = make_regression(n_samples=100, n_features=1, noise=0.1)\n",
    "\n",
    "print(\"Features:\", X)\n",
    "print(\"Targets:\", Y)"
   ]
  },
  {
   "cell_type": "code",
   "execution_count": 59,
   "id": "c2c7cf36",
   "metadata": {},
   "outputs": [
    {
     "data": {
      "text/plain": [
       "(100, 1)"
      ]
     },
     "execution_count": 59,
     "metadata": {},
     "output_type": "execute_result"
    }
   ],
   "source": [
    "X.shape\n"
   ]
  },
  {
   "cell_type": "code",
   "execution_count": 60,
   "id": "b8ca2463",
   "metadata": {},
   "outputs": [
    {
     "data": {
      "text/plain": [
       "(100,)"
      ]
     },
     "execution_count": 60,
     "metadata": {},
     "output_type": "execute_result"
    }
   ],
   "source": [
    "Y.shape"
   ]
  },
  {
   "cell_type": "code",
   "execution_count": 61,
   "id": "9f68ae30",
   "metadata": {},
   "outputs": [],
   "source": [
    "Y = Y.reshape(-1,1)"
   ]
  },
  {
   "cell_type": "code",
   "execution_count": 62,
   "id": "affac78f",
   "metadata": {},
   "outputs": [
    {
     "data": {
      "text/plain": [
       "(100, 1)"
      ]
     },
     "execution_count": 62,
     "metadata": {},
     "output_type": "execute_result"
    }
   ],
   "source": [
    "Y.shape"
   ]
  },
  {
   "cell_type": "code",
   "execution_count": 63,
   "id": "8cd8d0a7",
   "metadata": {},
   "outputs": [
    {
     "data": {
      "text/plain": [
       "array([[-0.49320907,  1.        ],\n",
       "       [ 0.78133375,  1.        ],\n",
       "       [-0.62622396,  1.        ],\n",
       "       [-1.30710747,  1.        ],\n",
       "       [-1.77137824,  1.        ],\n",
       "       [ 0.99730879,  1.        ],\n",
       "       [-0.22645789,  1.        ],\n",
       "       [-2.28282631,  1.        ],\n",
       "       [ 0.87381071,  1.        ],\n",
       "       [-1.17372165,  1.        ],\n",
       "       [ 0.85786304,  1.        ],\n",
       "       [-0.51508371,  1.        ],\n",
       "       [ 0.12153458,  1.        ],\n",
       "       [-0.73535252,  1.        ],\n",
       "       [ 0.51651874,  1.        ],\n",
       "       [ 1.46763224,  1.        ],\n",
       "       [ 1.37662984,  1.        ],\n",
       "       [-1.20791817,  1.        ],\n",
       "       [ 0.88535628,  1.        ],\n",
       "       [-0.61785093,  1.        ],\n",
       "       [-1.03780897,  1.        ],\n",
       "       [-1.07100873,  1.        ],\n",
       "       [-0.58360451,  1.        ],\n",
       "       [-0.89418961,  1.        ],\n",
       "       [ 1.90540996,  1.        ],\n",
       "       [ 0.13143019,  1.        ],\n",
       "       [-0.61998489,  1.        ],\n",
       "       [-1.39414195,  1.        ],\n",
       "       [-0.71232231,  1.        ],\n",
       "       [ 0.90893411,  1.        ],\n",
       "       [ 0.40688585,  1.        ],\n",
       "       [-0.25258602,  1.        ],\n",
       "       [-2.93727789,  1.        ],\n",
       "       [-0.52185937,  1.        ],\n",
       "       [ 0.66944969,  1.        ],\n",
       "       [ 0.21574883,  1.        ],\n",
       "       [ 1.99921673,  1.        ],\n",
       "       [-0.94250607,  1.        ],\n",
       "       [-0.39244088,  1.        ],\n",
       "       [ 0.38239444,  1.        ],\n",
       "       [ 1.19606588,  1.        ],\n",
       "       [-1.06049295,  1.        ],\n",
       "       [ 0.32756313,  1.        ],\n",
       "       [-1.61373438,  1.        ],\n",
       "       [ 0.09694474,  1.        ],\n",
       "       [ 0.74769491,  1.        ],\n",
       "       [-2.03386649,  1.        ],\n",
       "       [-0.49265924,  1.        ],\n",
       "       [ 1.09516893,  1.        ],\n",
       "       [-1.18879242,  1.        ],\n",
       "       [ 0.31523387,  1.        ],\n",
       "       [-0.38989733,  1.        ],\n",
       "       [ 0.38705896,  1.        ],\n",
       "       [-1.98651728,  1.        ],\n",
       "       [-0.10761694,  1.        ],\n",
       "       [ 1.02070822,  1.        ],\n",
       "       [-0.26010019,  1.        ],\n",
       "       [-1.38163843,  1.        ],\n",
       "       [-0.08700249,  1.        ],\n",
       "       [-0.83418871,  1.        ],\n",
       "       [-0.98232578,  1.        ],\n",
       "       [ 1.97299287,  1.        ],\n",
       "       [-0.84289104,  1.        ],\n",
       "       [ 1.20544462,  1.        ],\n",
       "       [-0.18276127,  1.        ],\n",
       "       [-0.78299254,  1.        ],\n",
       "       [-0.23628967,  1.        ],\n",
       "       [ 1.02432263,  1.        ],\n",
       "       [ 0.48307754,  1.        ],\n",
       "       [ 1.7802704 ,  1.        ],\n",
       "       [ 0.21068704,  1.        ],\n",
       "       [-1.03014455,  1.        ],\n",
       "       [ 0.49620543,  1.        ],\n",
       "       [ 1.60524312,  1.        ],\n",
       "       [-0.16227038,  1.        ],\n",
       "       [ 1.18989511,  1.        ],\n",
       "       [-1.03077125,  1.        ],\n",
       "       [ 0.07592618,  1.        ],\n",
       "       [-2.86427806,  1.        ],\n",
       "       [-0.61397297,  1.        ],\n",
       "       [ 3.04193485,  1.        ],\n",
       "       [-1.39781804,  1.        ],\n",
       "       [-0.69672637,  1.        ],\n",
       "       [ 1.47639138,  1.        ],\n",
       "       [ 0.33714604,  1.        ],\n",
       "       [ 0.18481759,  1.        ],\n",
       "       [ 0.8352975 ,  1.        ],\n",
       "       [ 1.15199922,  1.        ],\n",
       "       [ 1.67511265,  1.        ],\n",
       "       [-0.16120159,  1.        ],\n",
       "       [-0.13340069,  1.        ],\n",
       "       [ 0.62059352,  1.        ],\n",
       "       [-1.43726684,  1.        ],\n",
       "       [ 1.17994998,  1.        ],\n",
       "       [-0.97145554,  1.        ],\n",
       "       [-1.28104248,  1.        ],\n",
       "       [-1.68791073,  1.        ],\n",
       "       [ 0.51538825,  1.        ],\n",
       "       [-1.56196299,  1.        ],\n",
       "       [-2.19472811,  1.        ]])"
      ]
     },
     "execution_count": 63,
     "metadata": {},
     "output_type": "execute_result"
    }
   ],
   "source": [
    "X = np.hstack((X,np.ones(X.shape)))\n",
    "X"
   ]
  },
  {
   "cell_type": "code",
   "execution_count": 66,
   "id": "58e83b8f",
   "metadata": {},
   "outputs": [
    {
     "data": {
      "text/plain": [
       "array([[-1.14170681],\n",
       "       [-0.50664858]])"
      ]
     },
     "execution_count": 66,
     "metadata": {},
     "output_type": "execute_result"
    }
   ],
   "source": [
    "O = np.random.randn(2,1)\n",
    "O"
   ]
  },
  {
   "cell_type": "code",
   "execution_count": 69,
   "id": "8a6dcf11",
   "metadata": {},
   "outputs": [],
   "source": [
    "def model_regression(X,O):\n",
    "    return X.dot(O)\n",
    "\n"
   ]
  },
  {
   "cell_type": "code",
   "execution_count": 72,
   "id": "d67ae7cd",
   "metadata": {},
   "outputs": [
    {
     "data": {
      "image/png": "[encoded data removed]",
      "text/plain": [
       "<Figure size 640x480 with 1 Axes>"
      ]
     },
     "metadata": {},
     "output_type": "display_data"
    }
   ],
   "source": [
    "import matplotlib.pyplot as plt\n",
    "\n",
    "plt.scatter(model_regression(X,O), Y, color='blue')\n",
    "\n",
    "plt.show()"
   ]
  }
 ],
 "metadata": {
  "kernelspec": {
   "display_name": "Python 3 (ipykernel)",
   "language": "python",
   "name": "python3"
  },
  "language_info": {
   "codemirror_mode": {
    "name": "ipython",
    "version": 3
   },
   "file_extension": ".py",
   "mimetype": "text/x-python",
   "name": "python",
   "nbconvert_exporter": "python",
   "pygments_lexer": "ipython3",
   "version": "3.10.9"
  }
 },
 "nbformat": 4,
 "nbformat_minor": 5
}
