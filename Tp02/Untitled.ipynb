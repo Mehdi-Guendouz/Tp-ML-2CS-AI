{
 "cells": [
  {
   "cell_type": "code",
   "execution_count": 57,
   "id": "f6551f90",
   "metadata": {},
   "outputs": [],
   "source": [
    "from sklearn.datasets import make_regression\n",
    "import numpy as np"
   ]
  },
  {
   "cell_type": "code",
   "execution_count": 96,
   "id": "ad713734",
   "metadata": {},
   "outputs": [
    {
     "name": "stdout",
     "output_type": "stream",
     "text": [
      "Features: [[-0.97062408]\n",
      " [-0.70907526]\n",
      " [-1.18601723]\n",
      " [-0.15378702]\n",
      " [-2.89801292]\n",
      " [-0.62238186]\n",
      " [-1.1994545 ]\n",
      " [-0.24728026]\n",
      " [ 2.04749111]\n",
      " [-0.54150806]\n",
      " [-0.0637221 ]\n",
      " [ 0.36673774]\n",
      " [-0.67361156]\n",
      " [ 0.33601987]\n",
      " [-0.90837827]\n",
      " [-0.00562823]\n",
      " [-1.18094407]\n",
      " [ 0.04165601]\n",
      " [-0.38783156]\n",
      " [-0.47822766]\n",
      " [ 1.65240716]\n",
      " [-1.55326549]\n",
      " [-0.38791092]\n",
      " [-0.42242733]\n",
      " [ 1.52663947]\n",
      " [-0.82431675]\n",
      " [-0.04990399]\n",
      " [ 0.97964485]\n",
      " [-0.29083312]\n",
      " [-0.86468888]\n",
      " [ 1.08250176]\n",
      " [-1.52897469]\n",
      " [ 0.9706145 ]\n",
      " [ 0.2022946 ]\n",
      " [ 2.02184026]\n",
      " [-0.12596285]\n",
      " [ 1.12251472]\n",
      " [ 0.11521236]\n",
      " [-0.71800696]\n",
      " [ 0.28319387]\n",
      " [-0.53834049]\n",
      " [ 2.02749743]\n",
      " [-0.15028897]\n",
      " [ 0.64099319]\n",
      " [-2.51723935]\n",
      " [ 1.16698761]\n",
      " [-0.76793098]\n",
      " [-0.37803197]\n",
      " [ 0.68447945]\n",
      " [-0.05594621]\n",
      " [ 0.82063151]\n",
      " [-1.58707533]\n",
      " [-0.42177018]\n",
      " [ 2.79941291]\n",
      " [ 0.39881676]\n",
      " [ 0.47205675]\n",
      " [-0.07427879]\n",
      " [ 0.41950256]\n",
      " [ 1.12094636]\n",
      " [-1.58793453]\n",
      " [-0.18516507]\n",
      " [-0.26027832]\n",
      " [-0.97052062]\n",
      " [ 1.20179304]\n",
      " [-0.71907248]\n",
      " [ 0.68214605]\n",
      " [-0.0488532 ]\n",
      " [ 1.96447   ]\n",
      " [-0.97949556]\n",
      " [-0.22660902]\n",
      " [ 0.32236749]\n",
      " [-0.34295136]\n",
      " [ 0.30331596]\n",
      " [-1.67650547]\n",
      " [-0.5789027 ]\n",
      " [ 0.40702496]\n",
      " [ 1.78950473]\n",
      " [-0.19024788]\n",
      " [-0.11001492]\n",
      " [-1.94958731]\n",
      " [-0.59101162]\n",
      " [-1.000495  ]\n",
      " [ 1.28607674]\n",
      " [-0.85648735]\n",
      " [ 0.31415888]\n",
      " [ 1.1621067 ]\n",
      " [ 0.74197013]\n",
      " [-0.01829932]\n",
      " [ 0.906203  ]\n",
      " [-0.51719548]\n",
      " [-0.78737376]\n",
      " [ 2.17690141]\n",
      " [-1.36931451]\n",
      " [ 1.06253391]\n",
      " [-1.29200984]\n",
      " [-0.1336189 ]\n",
      " [-0.88727577]\n",
      " [ 0.17548658]\n",
      " [-0.67042716]\n",
      " [-0.21546739]]\n",
      "Targets: [-8.22637183e+01 -6.00453058e+01 -1.00600989e+02 -1.31295340e+01\n",
      " -2.45752210e+02 -5.29188632e+01 -1.01728423e+02 -2.09644871e+01\n",
      "  1.73628921e+02 -4.60187079e+01 -5.40696032e+00  3.10881123e+01\n",
      " -5.71023939e+01  2.85010869e+01 -7.68996782e+01 -1.76969659e-01\n",
      " -1.00221854e+02  3.42676896e+00 -3.28912661e+01 -4.03998050e+01\n",
      "  1.40297640e+02 -1.31708970e+02 -3.28908947e+01 -3.58130361e+01\n",
      "  1.29451064e+02 -6.99627999e+01 -4.19183213e+00  8.30621077e+01\n",
      " -2.44586884e+01 -7.35400425e+01  9.17192988e+01 -1.29720816e+02\n",
      "  8.24387911e+01  1.73007622e+01  1.71432796e+02 -1.06391159e+01\n",
      "  9.51024776e+01  9.72273804e+00 -6.08867703e+01  2.41386839e+01\n",
      " -4.56088106e+01  1.72085608e+02 -1.25297277e+01  5.44532751e+01\n",
      " -2.13312739e+02  9.90606008e+01 -6.50749754e+01 -3.21049401e+01\n",
      "  5.81947923e+01 -4.76780916e+00  6.96305827e+01 -1.34649097e+02\n",
      " -3.56386275e+01  2.37299306e+02  3.38514939e+01  4.01030654e+01\n",
      " -6.18076867e+00  3.56831815e+01  9.51234502e+01 -1.34852110e+02\n",
      " -1.56915944e+01 -2.20864150e+01 -8.24257232e+01  1.01909307e+02\n",
      " -6.11310640e+01  5.78328746e+01 -4.17710414e+00  1.66630774e+02\n",
      " -8.31846088e+01 -1.93509571e+01  2.73857567e+01 -2.88906028e+01\n",
      "  2.58191773e+01 -1.42241828e+02 -4.91556421e+01  3.44698965e+01\n",
      "  1.51801561e+02 -1.62172819e+01 -9.28112207e+00 -1.65523030e+02\n",
      " -5.01904040e+01 -8.48131853e+01  1.09099262e+02 -7.25556734e+01\n",
      "  2.67626679e+01  9.84638427e+01  6.30482355e+01 -1.50053646e+00\n",
      "  7.66958961e+01 -4.39633069e+01 -6.68199469e+01  1.84375334e+02\n",
      " -1.16131795e+02  9.01431994e+01 -1.09458380e+02 -1.12363804e+01\n",
      " -7.51583520e+01  1.48880374e+01 -5.68321397e+01 -1.82463688e+01]\n"
     ]
    }
   ],
   "source": [
    "\n",
    "# Generate a regression dataset with 100 samples and 3 features\n",
    "X, Y = make_regression(n_samples=100, n_features=1, noise=0.1)\n",
    "\n",
    "print(\"Features:\", X)\n",
    "print(\"Targets:\", Y)"
   ]
  },
  {
   "cell_type": "code",
   "execution_count": 97,
   "id": "c2c7cf36",
   "metadata": {},
   "outputs": [
    {
     "data": {
      "text/plain": [
       "(100, 1)"
      ]
     },
     "execution_count": 97,
     "metadata": {},
     "output_type": "execute_result"
    }
   ],
   "source": [
    "X.shape\n"
   ]
  },
  {
   "cell_type": "code",
   "execution_count": 98,
   "id": "b8ca2463",
   "metadata": {},
   "outputs": [
    {
     "data": {
      "text/plain": [
       "(100,)"
      ]
     },
     "execution_count": 98,
     "metadata": {},
     "output_type": "execute_result"
    }
   ],
   "source": [
    "Y.shape"
   ]
  },
  {
   "cell_type": "code",
   "execution_count": 99,
   "id": "9f68ae30",
   "metadata": {},
   "outputs": [],
   "source": [
    "Y = Y.reshape(-1,1)"
   ]
  },
  {
   "cell_type": "code",
   "execution_count": 100,
   "id": "affac78f",
   "metadata": {},
   "outputs": [
    {
     "data": {
      "text/plain": [
       "(100, 1)"
      ]
     },
     "execution_count": 100,
     "metadata": {},
     "output_type": "execute_result"
    }
   ],
   "source": [
    "Y.shape"
   ]
  },
  {
   "cell_type": "code",
   "execution_count": 101,
   "id": "8cd8d0a7",
   "metadata": {},
   "outputs": [
    {
     "data": {
      "text/plain": [
       "array([[-0.97062408,  1.        ],\n",
       "       [-0.70907526,  1.        ],\n",
       "       [-1.18601723,  1.        ],\n",
       "       [-0.15378702,  1.        ],\n",
       "       [-2.89801292,  1.        ],\n",
       "       [-0.62238186,  1.        ],\n",
       "       [-1.1994545 ,  1.        ],\n",
       "       [-0.24728026,  1.        ],\n",
       "       [ 2.04749111,  1.        ],\n",
       "       [-0.54150806,  1.        ],\n",
       "       [-0.0637221 ,  1.        ],\n",
       "       [ 0.36673774,  1.        ],\n",
       "       [-0.67361156,  1.        ],\n",
       "       [ 0.33601987,  1.        ],\n",
       "       [-0.90837827,  1.        ],\n",
       "       [-0.00562823,  1.        ],\n",
       "       [-1.18094407,  1.        ],\n",
       "       [ 0.04165601,  1.        ],\n",
       "       [-0.38783156,  1.        ],\n",
       "       [-0.47822766,  1.        ],\n",
       "       [ 1.65240716,  1.        ],\n",
       "       [-1.55326549,  1.        ],\n",
       "       [-0.38791092,  1.        ],\n",
       "       [-0.42242733,  1.        ],\n",
       "       [ 1.52663947,  1.        ],\n",
       "       [-0.82431675,  1.        ],\n",
       "       [-0.04990399,  1.        ],\n",
       "       [ 0.97964485,  1.        ],\n",
       "       [-0.29083312,  1.        ],\n",
       "       [-0.86468888,  1.        ],\n",
       "       [ 1.08250176,  1.        ],\n",
       "       [-1.52897469,  1.        ],\n",
       "       [ 0.9706145 ,  1.        ],\n",
       "       [ 0.2022946 ,  1.        ],\n",
       "       [ 2.02184026,  1.        ],\n",
       "       [-0.12596285,  1.        ],\n",
       "       [ 1.12251472,  1.        ],\n",
       "       [ 0.11521236,  1.        ],\n",
       "       [-0.71800696,  1.        ],\n",
       "       [ 0.28319387,  1.        ],\n",
       "       [-0.53834049,  1.        ],\n",
       "       [ 2.02749743,  1.        ],\n",
       "       [-0.15028897,  1.        ],\n",
       "       [ 0.64099319,  1.        ],\n",
       "       [-2.51723935,  1.        ],\n",
       "       [ 1.16698761,  1.        ],\n",
       "       [-0.76793098,  1.        ],\n",
       "       [-0.37803197,  1.        ],\n",
       "       [ 0.68447945,  1.        ],\n",
       "       [-0.05594621,  1.        ],\n",
       "       [ 0.82063151,  1.        ],\n",
       "       [-1.58707533,  1.        ],\n",
       "       [-0.42177018,  1.        ],\n",
       "       [ 2.79941291,  1.        ],\n",
       "       [ 0.39881676,  1.        ],\n",
       "       [ 0.47205675,  1.        ],\n",
       "       [-0.07427879,  1.        ],\n",
       "       [ 0.41950256,  1.        ],\n",
       "       [ 1.12094636,  1.        ],\n",
       "       [-1.58793453,  1.        ],\n",
       "       [-0.18516507,  1.        ],\n",
       "       [-0.26027832,  1.        ],\n",
       "       [-0.97052062,  1.        ],\n",
       "       [ 1.20179304,  1.        ],\n",
       "       [-0.71907248,  1.        ],\n",
       "       [ 0.68214605,  1.        ],\n",
       "       [-0.0488532 ,  1.        ],\n",
       "       [ 1.96447   ,  1.        ],\n",
       "       [-0.97949556,  1.        ],\n",
       "       [-0.22660902,  1.        ],\n",
       "       [ 0.32236749,  1.        ],\n",
       "       [-0.34295136,  1.        ],\n",
       "       [ 0.30331596,  1.        ],\n",
       "       [-1.67650547,  1.        ],\n",
       "       [-0.5789027 ,  1.        ],\n",
       "       [ 0.40702496,  1.        ],\n",
       "       [ 1.78950473,  1.        ],\n",
       "       [-0.19024788,  1.        ],\n",
       "       [-0.11001492,  1.        ],\n",
       "       [-1.94958731,  1.        ],\n",
       "       [-0.59101162,  1.        ],\n",
       "       [-1.000495  ,  1.        ],\n",
       "       [ 1.28607674,  1.        ],\n",
       "       [-0.85648735,  1.        ],\n",
       "       [ 0.31415888,  1.        ],\n",
       "       [ 1.1621067 ,  1.        ],\n",
       "       [ 0.74197013,  1.        ],\n",
       "       [-0.01829932,  1.        ],\n",
       "       [ 0.906203  ,  1.        ],\n",
       "       [-0.51719548,  1.        ],\n",
       "       [-0.78737376,  1.        ],\n",
       "       [ 2.17690141,  1.        ],\n",
       "       [-1.36931451,  1.        ],\n",
       "       [ 1.06253391,  1.        ],\n",
       "       [-1.29200984,  1.        ],\n",
       "       [-0.1336189 ,  1.        ],\n",
       "       [-0.88727577,  1.        ],\n",
       "       [ 0.17548658,  1.        ],\n",
       "       [-0.67042716,  1.        ],\n",
       "       [-0.21546739,  1.        ]])"
      ]
     },
     "execution_count": 101,
     "metadata": {},
     "output_type": "execute_result"
    }
   ],
   "source": [
    "X = np.hstack((X,np.ones(X.shape)))\n",
    "X"
   ]
  },
  {
   "cell_type": "code",
   "execution_count": 102,
   "id": "387f0072",
   "metadata": {},
   "outputs": [
    {
     "data": {
      "text/plain": [
       "array([[-0.3964508 ],\n",
       "       [ 0.66499673]])"
      ]
     },
     "execution_count": 102,
     "metadata": {},
     "output_type": "execute_result"
    }
   ],
   "source": [
    "O = np.random.randn(2,1)\n",
    "O"
   ]
  },
  {
   "cell_type": "code",
   "execution_count": 103,
   "id": "6b0cea4e",
   "metadata": {},
   "outputs": [],
   "source": [
    "def model_regression(X,O):\n",
    "    return X.dot(O)\n",
    "\n"
   ]
  },
  {
   "cell_type": "code",
   "execution_count": 104,
   "id": "13924ab7",
   "metadata": {},
   "outputs": [
    {
     "data": {
      "image/png": "[encoded data removed]",
      "text/plain": [
       "<Figure size 640x480 with 1 Axes>"
      ]
     },
     "metadata": {},
     "output_type": "display_data"
    }
   ],
   "source": [
    "import matplotlib.pyplot as plt\n",
    "\n",
    "plt.scatter(model_regression(X,O), Y, color='blue')\n",
    "\n",
    "plt.show()"
   ]
  },
  {
   "cell_type": "code",
   "execution_count": 105,
   "id": "5bf3cc5d",
   "metadata": {},
   "outputs": [],
   "source": [
    "m=100\n",
    "def cost(X,Y, tetha):\n",
    "    return 1/(2*m) * np.sum((model_regression(X,tetha)- Y)**2)"
   ]
  },
  {
   "cell_type": "code",
   "execution_count": 106,
   "id": "b75c37a0",
   "metadata": {},
   "outputs": [
    {
     "data": {
      "text/plain": [
       "3931.06718131297"
      ]
     },
     "execution_count": 106,
     "metadata": {},
     "output_type": "execute_result"
    }
   ],
   "source": [
    "cost(X,Y,O)"
   ]
  },
  {
   "cell_type": "code",
   "execution_count": 107,
   "id": "cd6073dd",
   "metadata": {},
   "outputs": [],
   "source": [
    "def grad(X,Y,theta):\n",
    "    error = model_regression(X,O) - Y\n",
    "    return 1/m * X.T.dot(error)"
   ]
  },
  {
   "cell_type": "code",
   "execution_count": 109,
   "id": "fb8336ec",
   "metadata": {},
   "outputs": [
    {
     "data": {
      "text/plain": [
       "array([[18444.65489351],\n",
       "       [-1127.36442532]])"
      ]
     },
     "execution_count": 109,
     "metadata": {},
     "output_type": "execute_result"
    }
   ],
   "source": [
    "def Decent_gradient(X,Y,theta,lr, nb_iter):\n",
    "    for i in range(nb_iter):\n",
    "        theta = theta - lr * grad(X,Y,theta)\n",
    "    return theta\n",
    "theta = Decent_gradient(X,Y,O,0.1,2000)\n",
    "theta"
   ]
  },
  {
   "cell_type": "code",
   "execution_count": 110,
   "id": "29aa7fb3",
   "metadata": {},
   "outputs": [
    {
     "data": {
      "image/png": "[encoded data removed]",
      "text/plain": [
       "<Figure size 640x480 with 1 Axes>"
      ]
     },
     "metadata": {},
     "output_type": "display_data"
    }
   ],
   "source": [
    "plt.scatter(X[:, 0], Y, color='blue', label='Actual data')  # Plotting the actual data points\n",
    "plt.plot(X[:, 0], model_regression(X,theta), color='red', label='Prediction line')  # Plotting the line of prediction\n",
    "plt.xlabel('Feature')\n",
    "plt.ylabel('Target')\n",
    "plt.title('Line of Prediction')\n",
    "plt.legend()\n",
    "plt.show()"
   ]
  }
 ],
 "metadata": {
  "kernelspec": {
   "display_name": "Python 3 (ipykernel)",
   "language": "python",
   "name": "python3"
  },
  "language_info": {
   "codemirror_mode": {
    "name": "ipython",
    "version": 3
   },
   "file_extension": ".py",
   "mimetype": "text/x-python",
   "name": "python",
   "nbconvert_exporter": "python",
   "pygments_lexer": "ipython3",
   "version": "3.10.9"
  }
 },
 "nbformat": 4,
 "nbformat_minor": 5
}
